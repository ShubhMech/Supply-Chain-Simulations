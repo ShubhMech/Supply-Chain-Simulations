{
 "cells": [
  {
   "cell_type": "code",
   "execution_count": 66,
   "id": "ba7b4097-6e83-4ca2-8962-51212db53bf4",
   "metadata": {
    "scrolled": true
   },
   "outputs": [],
   "source": [
    "waiting_time= []\n",
    "leaving_time=[]\n",
    "\n",
    "import numpy as np\n",
    "\n",
    "arrival_time= np.random.exponential(0.5,400).cumsum()\n",
    "service_time= np.random.normal(1,0.2,400)\n",
    "\n",
    "waiting_time.append(0)\n",
    "leaving_time.append(service_time[0]+arrival_time[0]+waiting_time[0])"
   ]
  },
  {
   "cell_type": "code",
   "execution_count": 67,
   "id": "4f353724-8a59-4d19-967f-b0804bf1606f",
   "metadata": {
    "scrolled": true
   },
   "outputs": [
    {
     "data": {
      "text/plain": [
       "array([1.62357553e-01, 1.10027978e+00, 1.73339707e+00, 3.32125069e+00,\n",
       "       3.48323983e+00, 5.32703580e+00, 5.69553852e+00, 6.24685974e+00,\n",
       "       6.41361298e+00, 6.42987044e+00, 6.50364509e+00, 7.02924182e+00,\n",
       "       1.03405231e+01, 1.12839629e+01, 1.13616884e+01, 1.14432063e+01,\n",
       "       1.14496649e+01, 1.14795068e+01, 1.21435631e+01, 1.32871973e+01,\n",
       "       1.33980449e+01, 1.44787320e+01, 1.48122256e+01, 1.60709380e+01,\n",
       "       1.68835680e+01, 1.79358537e+01, 1.81209795e+01, 1.91788288e+01,\n",
       "       1.93993386e+01, 1.97910738e+01, 2.00135091e+01, 2.06450652e+01,\n",
       "       2.11065874e+01, 2.13535712e+01, 2.14397449e+01, 2.15085598e+01,\n",
       "       2.23857447e+01, 2.27434230e+01, 2.33480150e+01, 2.39876210e+01,\n",
       "       2.41326250e+01, 2.54672326e+01, 2.70549848e+01, 2.76647203e+01,\n",
       "       2.78955695e+01, 2.86129972e+01, 2.89039320e+01, 2.95397622e+01,\n",
       "       2.97817124e+01, 3.09021658e+01, 3.10830276e+01, 3.13192392e+01,\n",
       "       3.14167411e+01, 3.17141125e+01, 3.22313347e+01, 3.22735946e+01,\n",
       "       3.27998303e+01, 3.31456470e+01, 3.39492592e+01, 3.39833987e+01,\n",
       "       3.49926172e+01, 3.53632246e+01, 3.58276606e+01, 3.63142400e+01,\n",
       "       3.63598656e+01, 3.66266057e+01, 3.70018062e+01, 3.76363180e+01,\n",
       "       3.78663644e+01, 3.81555144e+01, 3.82151711e+01, 3.82953021e+01,\n",
       "       3.89004872e+01, 3.93266871e+01, 3.96868843e+01, 3.98884410e+01,\n",
       "       4.04022180e+01, 4.16573036e+01, 4.17056041e+01, 4.30360277e+01,\n",
       "       4.40053262e+01, 4.40181788e+01, 4.42623680e+01, 4.49036189e+01,\n",
       "       4.49772967e+01, 4.58143189e+01, 4.70766419e+01, 4.72208625e+01,\n",
       "       4.72789456e+01, 4.78551446e+01, 4.78578914e+01, 4.87080732e+01,\n",
       "       4.95700118e+01, 4.99334100e+01, 5.02377823e+01, 5.02909605e+01,\n",
       "       5.11266659e+01, 5.16242263e+01, 5.17246454e+01, 5.24049164e+01,\n",
       "       5.24542404e+01, 5.27130333e+01, 5.30778532e+01, 5.33704688e+01,\n",
       "       5.36464948e+01, 5.46866435e+01, 5.48665678e+01, 5.55599217e+01,\n",
       "       5.56309444e+01, 5.60183487e+01, 5.62907136e+01, 5.64138823e+01,\n",
       "       5.65058676e+01, 5.77317796e+01, 5.82662998e+01, 5.85512862e+01,\n",
       "       5.88788556e+01, 5.96338053e+01, 5.99176186e+01, 6.13338978e+01,\n",
       "       6.14640562e+01, 6.15432036e+01, 6.17915615e+01, 6.18518187e+01,\n",
       "       6.18959238e+01, 6.22092442e+01, 6.28587411e+01, 6.39062150e+01,\n",
       "       6.40711209e+01, 6.44256071e+01, 6.44407227e+01, 6.55919428e+01,\n",
       "       6.56181462e+01, 6.58628293e+01, 6.65226334e+01, 6.69538767e+01,\n",
       "       6.70648818e+01, 6.71269554e+01, 6.76217949e+01, 6.99896952e+01,\n",
       "       7.02841122e+01, 7.02974765e+01, 7.08562623e+01, 7.08805695e+01,\n",
       "       7.15762117e+01, 7.18698787e+01, 7.21466162e+01, 7.22312343e+01,\n",
       "       7.26084452e+01, 7.26488171e+01, 7.34776673e+01, 7.37915968e+01,\n",
       "       7.40089714e+01, 7.61862415e+01, 7.67737842e+01, 7.71725599e+01,\n",
       "       7.74068441e+01, 7.74750903e+01, 7.94876291e+01, 7.96470080e+01,\n",
       "       8.24122735e+01, 8.25679508e+01, 8.39435329e+01, 8.42511967e+01,\n",
       "       8.43049282e+01, 8.50741180e+01, 8.56214309e+01, 8.70165449e+01,\n",
       "       8.83068292e+01, 8.84364480e+01, 8.86660752e+01, 8.88336852e+01,\n",
       "       8.90358672e+01, 8.93647258e+01, 9.08277474e+01, 9.17170408e+01,\n",
       "       9.17187905e+01, 9.27254352e+01, 9.27536817e+01, 9.33828474e+01,\n",
       "       9.41444302e+01, 9.42681225e+01, 9.44972997e+01, 9.48024073e+01,\n",
       "       9.48879993e+01, 9.53961282e+01, 9.54514807e+01, 9.54762399e+01,\n",
       "       9.57110976e+01, 9.57848399e+01, 9.60134248e+01, 9.63522547e+01,\n",
       "       9.63839150e+01, 9.66355761e+01, 9.68336535e+01, 9.68397072e+01,\n",
       "       9.76915196e+01, 9.83496995e+01, 9.83571208e+01, 9.84629216e+01,\n",
       "       9.85679113e+01, 9.95579035e+01, 9.98150621e+01, 9.98552104e+01,\n",
       "       1.00003071e+02, 1.00062898e+02, 1.00500841e+02, 1.00622561e+02,\n",
       "       1.00729425e+02, 1.00943814e+02, 1.01166043e+02, 1.02041278e+02,\n",
       "       1.02069624e+02, 1.03235509e+02, 1.04475085e+02, 1.06206068e+02,\n",
       "       1.06875049e+02, 1.07065009e+02, 1.07948477e+02, 1.09062569e+02,\n",
       "       1.09622519e+02, 1.10194709e+02, 1.10962191e+02, 1.11152724e+02,\n",
       "       1.12516051e+02, 1.12739341e+02, 1.12933719e+02, 1.13397976e+02,\n",
       "       1.13496687e+02, 1.13756320e+02, 1.15691629e+02, 1.16294633e+02,\n",
       "       1.16843430e+02, 1.16844251e+02, 1.17715128e+02, 1.18210831e+02,\n",
       "       1.18395160e+02, 1.19807112e+02, 1.19812740e+02, 1.20379272e+02,\n",
       "       1.20598119e+02, 1.21144121e+02, 1.22307177e+02, 1.22487040e+02,\n",
       "       1.23142601e+02, 1.23621976e+02, 1.24121958e+02, 1.24728275e+02,\n",
       "       1.25139430e+02, 1.25256722e+02, 1.25737638e+02, 1.26837695e+02,\n",
       "       1.27210016e+02, 1.27989591e+02, 1.28146732e+02, 1.28586748e+02,\n",
       "       1.28875606e+02, 1.29599105e+02, 1.29602793e+02, 1.30065086e+02,\n",
       "       1.30239551e+02, 1.30252523e+02, 1.31139801e+02, 1.31488784e+02,\n",
       "       1.31976503e+02, 1.32191578e+02, 1.32480460e+02, 1.32690471e+02,\n",
       "       1.33870298e+02, 1.34393524e+02, 1.34650134e+02, 1.34833275e+02,\n",
       "       1.34865322e+02, 1.35607074e+02, 1.35681684e+02, 1.36074988e+02,\n",
       "       1.36215686e+02, 1.36484916e+02, 1.36710636e+02, 1.39958492e+02,\n",
       "       1.39983849e+02, 1.40114802e+02, 1.40258866e+02, 1.40275777e+02,\n",
       "       1.40921471e+02, 1.41851899e+02, 1.42206177e+02, 1.42511031e+02,\n",
       "       1.43479440e+02, 1.44572951e+02, 1.44606132e+02, 1.44867862e+02,\n",
       "       1.45139407e+02, 1.46291627e+02, 1.46411931e+02, 1.46662349e+02,\n",
       "       1.47150902e+02, 1.48092302e+02, 1.48234175e+02, 1.48280793e+02,\n",
       "       1.48537332e+02, 1.49113425e+02, 1.49537200e+02, 1.49823286e+02,\n",
       "       1.50556978e+02, 1.50649582e+02, 1.50736506e+02, 1.50993153e+02,\n",
       "       1.51842864e+02, 1.52523568e+02, 1.52568023e+02, 1.52692516e+02,\n",
       "       1.52745654e+02, 1.52777530e+02, 1.53492259e+02, 1.55475297e+02,\n",
       "       1.58134472e+02, 1.58205150e+02, 1.58333235e+02, 1.58763171e+02,\n",
       "       1.58977576e+02, 1.59937273e+02, 1.60218546e+02, 1.60742736e+02,\n",
       "       1.61989542e+02, 1.62582689e+02, 1.63340039e+02, 1.64051491e+02,\n",
       "       1.64441609e+02, 1.64628615e+02, 1.65115424e+02, 1.69397979e+02,\n",
       "       1.69509537e+02, 1.69631300e+02, 1.69908769e+02, 1.69975617e+02,\n",
       "       1.70037513e+02, 1.70505224e+02, 1.71516818e+02, 1.71554063e+02,\n",
       "       1.71930721e+02, 1.72743063e+02, 1.73488514e+02, 1.73746670e+02,\n",
       "       1.74068535e+02, 1.74292912e+02, 1.75665968e+02, 1.75902309e+02,\n",
       "       1.76672780e+02, 1.77256206e+02, 1.77751914e+02, 1.77756971e+02,\n",
       "       1.78276134e+02, 1.78453674e+02, 1.79099495e+02, 1.80656998e+02,\n",
       "       1.80817034e+02, 1.80851716e+02, 1.83101639e+02, 1.83481045e+02,\n",
       "       1.83656352e+02, 1.83791962e+02, 1.85182366e+02, 1.85618439e+02,\n",
       "       1.86403544e+02, 1.87547586e+02, 1.87813180e+02, 1.88193769e+02,\n",
       "       1.88445892e+02, 1.90635877e+02, 1.91602738e+02, 1.92654744e+02,\n",
       "       1.93050338e+02, 1.93612383e+02, 1.93847571e+02, 1.94862445e+02,\n",
       "       1.95472119e+02, 1.96159789e+02, 1.96367118e+02, 1.96826817e+02,\n",
       "       1.97901431e+02, 1.97979341e+02, 1.98224849e+02, 1.98824499e+02,\n",
       "       1.99491553e+02, 1.99687241e+02, 1.99940689e+02, 2.00605288e+02,\n",
       "       2.00642122e+02, 2.01003188e+02, 2.01505418e+02, 2.02221710e+02,\n",
       "       2.02328977e+02, 2.02559750e+02, 2.03454974e+02, 2.04160643e+02,\n",
       "       2.04291663e+02, 2.04398366e+02, 2.05638185e+02, 2.05745224e+02])"
      ]
     },
     "execution_count": 67,
     "metadata": {},
     "output_type": "execute_result"
    }
   ],
   "source": [
    "arrival_time\n"
   ]
  },
  {
   "cell_type": "code",
   "execution_count": 68,
   "id": "aedd514e-8980-4da9-ab9d-6ab502f86d3e",
   "metadata": {
    "scrolled": true
   },
   "outputs": [],
   "source": [
    "def simulation(waiting_time,leaving_time):\n",
    "    \n",
    "    for i in range(1, len(arrival_time)):\n",
    "        waiting_time.append(max(0,leaving_time[i-1]-arrival_time[i]))\n",
    "        leaving_time.append(arrival_time[i]+waiting_time[i]+service_time[i])\n",
    "        \n",
    "    return np.mean(waiting_time)"
   ]
  },
  {
   "cell_type": "code",
   "execution_count": 69,
   "id": "c650c249-4c05-4342-b8cf-1f60ad9460d4",
   "metadata": {
    "scrolled": true
   },
   "outputs": [
    {
     "data": {
      "text/plain": [
       "94.80099361224116"
      ]
     },
     "execution_count": 69,
     "metadata": {},
     "output_type": "execute_result"
    }
   ],
   "source": [
    "simulation(waiting_time,leaving_time)"
   ]
  },
  {
   "cell_type": "code",
   "execution_count": 70,
   "id": "1bb4d3f6-01ee-498d-9207-0e0a149c1ae6",
   "metadata": {
    "scrolled": true
   },
   "outputs": [
    {
     "data": {
      "text/plain": [
       "[0,\n",
       " 0,\n",
       " 0.5853326600450106,\n",
       " 0,\n",
       " 0.6815782060267481,\n",
       " 0,\n",
       " 0.705509516328438,\n",
       " 1.1612438709918145,\n",
       " 1.95955478903287,\n",
       " 2.868103416003989,\n",
       " 4.2260902947534005,\n",
       " 4.767270263309481,\n",
       " 2.3534734890688664,\n",
       " 2.3575303311249396,\n",
       " 3.118874810743675,\n",
       " 4.163931231488199,\n",
       " 5.431141111587586,\n",
       " 6.41099941285381,\n",
       " 6.60903169972153,\n",
       " 6.098368308847217,\n",
       " 6.745183264570533,\n",
       " 6.612121568835738,\n",
       " 7.015551375755686,\n",
       " 6.914792758806001,\n",
       " 7.239015275593847,\n",
       " 6.959284785920385,\n",
       " 7.542151598451007,\n",
       " 7.643054891098338,\n",
       " 7.999611366143068,\n",
       " 8.633840842908853,\n",
       " 9.333005729504244,\n",
       " 9.887122965603115,\n",
       " 10.348872468836454,\n",
       " 11.134952908298807,\n",
       " 11.963455479467829,\n",
       " 12.630414186411976,\n",
       " 12.462956379452681,\n",
       " 13.099705251039367,\n",
       " 13.48783664845433,\n",
       " 13.928679012728335,\n",
       " 15.03336430285134,\n",
       " 14.64551314404942,\n",
       " 13.765093078617479,\n",
       " 13.817169821923091,\n",
       " 14.484122885632445,\n",
       " 14.228149793320657,\n",
       " 14.56397740882825,\n",
       " 15.039929019731495,\n",
       " 15.6715962231454,\n",
       " 15.444377887431234,\n",
       " 16.50816774526689,\n",
       " 17.058055677605754,\n",
       " 17.83433333044468,\n",
       " 18.44981306595271,\n",
       " 19.057226054873226,\n",
       " 20.120915875796875,\n",
       " 20.71674352748547,\n",
       " 21.11235938906225,\n",
       " 21.653212518657718,\n",
       " 22.604890037872735,\n",
       " 22.588597900193363,\n",
       " 22.910003032207655,\n",
       " 23.629544891738753,\n",
       " 24.168602375311096,\n",
       " 25.21254898901025,\n",
       " 25.824827766189138,\n",
       " 26.521305799665242,\n",
       " 26.810186148578346,\n",
       " 27.48568231197992,\n",
       " 28.139114606660023,\n",
       " 29.226808186035804,\n",
       " 29.92646542377593,\n",
       " 30.12202714705937,\n",
       " 30.792541510008824,\n",
       " 31.575914343626437,\n",
       " 32.35596484860069,\n",
       " 32.89605059689585,\n",
       " 32.48334530101162,\n",
       " 33.74144613170835,\n",
       " 33.367814162044446,\n",
       " 33.421263572393094,\n",
       " 34.437909381587794,\n",
       " 35.61595091322773,\n",
       " 35.78126489960941,\n",
       " 36.26615101548478,\n",
       " 36.44172037662568,\n",
       " 36.21237310025169,\n",
       " 36.94808335503894,\n",
       " 37.92129320427965,\n",
       " 38.352663298363005,\n",
       " 39.32042033946215,\n",
       " 39.32471287336968,\n",
       " 39.57020696698464,\n",
       " 40.08444297504117,\n",
       " 40.936826189488805,\n",
       " 41.79379999692005,\n",
       " 41.822621325441254,\n",
       " 41.71862361969792,\n",
       " 42.40729716915406,\n",
       " 42.72554919853239,\n",
       " 43.74153345379976,\n",
       " 44.75701604728073,\n",
       " 45.19815115648197,\n",
       " 46.093865637785356,\n",
       " 46.7232688801003,\n",
       " 46.834746833250456,\n",
       " 47.82593369535225,\n",
       " 48.10556982538084,\n",
       " 49.39214553532421,\n",
       " 50.141334109122255,\n",
       " 51.0744066718844,\n",
       " 51.85201750407484,\n",
       " 52.70103883443589,\n",
       " 52.489092789235336,\n",
       " 52.91488179668996,\n",
       " 53.61343438190165,\n",
       " 54.16461806152621,\n",
       " 54.18147848744278,\n",
       " 54.99646793821836,\n",
       " 54.69300259151117,\n",
       " 55.65333261537732,\n",
       " 56.600082869389624,\n",
       " 57.63058426767778,\n",
       " 58.17207148291148,\n",
       " 59.0934296012011,\n",
       " 59.53404181034843,\n",
       " 59.87206216044787,\n",
       " 59.831289075290265,\n",
       " 60.760322845824305,\n",
       " 61.736185964926946,\n",
       " 62.91570325502674,\n",
       " 62.97427597410484,\n",
       " 63.90988090830362,\n",
       " 64.48612292825192,\n",
       " 65.03554843123547,\n",
       " 65.55262467253979,\n",
       " 66.55386884044586,\n",
       " 67.45794834095226,\n",
       " 68.30705955736977,\n",
       " 67.0313524123603,\n",
       " 67.67485313961937,\n",
       " 68.37836325435677,\n",
       " 68.77218851564639,\n",
       " 70.12719705453806,\n",
       " 70.3703057457099,\n",
       " 71.02356494345557,\n",
       " 71.52130179431029,\n",
       " 72.4623659804391,\n",
       " 73.21320227061992,\n",
       " 73.92633920007147,\n",
       " 74.18185067665097,\n",
       " 74.58161574421307,\n",
       " 75.22443394114782,\n",
       " 74.13526507273748,\n",
       " 74.33617245385882,\n",
       " 74.64087410218963,\n",
       " 75.31864962355522,\n",
       " 76.27199034305522,\n",
       " 75.59292214450457,\n",
       " 76.70368784648626,\n",
       " 75.02602337196201,\n",
       " 75.86892298153532,\n",
       " 74.99738607358198,\n",
       " 75.37646026601503,\n",
       " 76.58726305147138,\n",
       " 76.20158027858155,\n",
       " 76.6983409106625,\n",
       " 76.24540470778635,\n",
       " 76.02778571271463,\n",
       " 77.08365302569979,\n",
       " 77.74877085164441,\n",
       " 79.05962571440575,\n",
       " 79.93509590164392,\n",
       " 80.38998629187266,\n",
       " 79.68878043158627,\n",
       " 80.38509174176086,\n",
       " 81.47005912222508,\n",
       " 81.35151471432535,\n",
       " 82.13340473766684,\n",
       " 82.59635516673062,\n",
       " 82.84063165785359,\n",
       " 83.61628972791206,\n",
       " 84.11144346687891,\n",
       " 84.6473328383182,\n",
       " 85.47266973778352,\n",
       " 85.70803519819454,\n",
       " 86.55009047618101,\n",
       " 87.46231613585215,\n",
       " 88.14436776961955,\n",
       " 89.10068142640233,\n",
       " 89.63901503130805,\n",
       " 90.47100354610768,\n",
       " 91.06841112606426,\n",
       " 91.88662754143122,\n",
       " 92.66079239083328,\n",
       " 93.62589898663799,\n",
       " 93.7904328091797,\n",
       " 93.99358327942521,\n",
       " 94.99365851226689,\n",
       " 95.80338544217436,\n",
       " 96.55494124846707,\n",
       " 96.59061615698837,\n",
       " 97.14037069109952,\n",
       " 97.8131829730595,\n",
       " 98.35535578030114,\n",
       " 99.40552408592761,\n",
       " 100.24061979027925,\n",
       " 101.23514062215888,\n",
       " 102.06162286249915,\n",
       " 103.1852357519822,\n",
       " 103.89777298708292,\n",
       " 103.91642139014584,\n",
       " 104.77713424243473,\n",
       " 104.88216843349058,\n",
       " 104.32055014671046,\n",
       " 103.82707199638736,\n",
       " 104.18820025685159,\n",
       " 104.9987844128652,\n",
       " 105.10477021606017,\n",
       " 105.14518168728188,\n",
       " 105.57025697407934,\n",
       " 105.94531686031112,\n",
       " 106.24355924827725,\n",
       " 107.02560677281451,\n",
       " 107.02434875488079,\n",
       " 107.42147021558934,\n",
       " 108.2861345603625,\n",
       " 108.70829841925628,\n",
       " 109.55721092424105,\n",
       " 110.42961226648197,\n",
       " 109.43897653256649,\n",
       " 109.6635709177423,\n",
       " 110.10186063813687,\n",
       " 111.13114233215624,\n",
       " 111.47211280587301,\n",
       " 112.03897724336997,\n",
       " 112.77039890873174,\n",
       " 112.13092587902861,\n",
       " 112.67090358927315,\n",
       " 113.35158255010629,\n",
       " 114.33347022494152,\n",
       " 114.76346928620917,\n",
       " 114.49799467409706,\n",
       " 115.54200899996319,\n",
       " 115.81316380380638,\n",
       " 116.11100157639954,\n",
       " 116.69394626438667,\n",
       " 117.205103273909,\n",
       " 117.83774938607954,\n",
       " 118.8289133441996,\n",
       " 119.25588441180571,\n",
       " 119.17714326382556,\n",
       " 119.9154095114647,\n",
       " 120.1518523404674,\n",
       " 121.58576714071259,\n",
       " 122.05165246139308,\n",
       " 122.59111190018587,\n",
       " 122.68800952809025,\n",
       " 123.20925462344067,\n",
       " 124.05966289443077,\n",
       " 124.95868122231181,\n",
       " 126.37358929852576,\n",
       " 126.35083499052993,\n",
       " 126.99712265816967,\n",
       " 127.88406248203555,\n",
       " 128.69312844145068,\n",
       " 129.6754996914236,\n",
       " 130.62173612586423,\n",
       " 130.3723986759166,\n",
       " 130.98198525977978,\n",
       " 131.79147376934242,\n",
       " 132.65083101110991,\n",
       " 133.68893794736692,\n",
       " 133.89533033018856,\n",
       " 134.7344701442246,\n",
       " 135.41737467516157,\n",
       " 136.4835165062843,\n",
       " 136.8266342611584,\n",
       " 137.7031435586339,\n",
       " 135.50349819426143,\n",
       " 136.73228686357405,\n",
       " 137.50533048914525,\n",
       " 138.18199428177297,\n",
       " 139.51230821869348,\n",
       " 139.81080843358689,\n",
       " 140.04377817165036,\n",
       " 140.37639452863974,\n",
       " 141.3047080521678,\n",
       " 141.51389366765986,\n",
       " 141.27404503808154,\n",
       " 142.15716217679142,\n",
       " 143.35876686483851,\n",
       " 144.02012742282278,\n",
       " 143.96810168185885,\n",
       " 144.62020865788074,\n",
       " 145.35341857392942,\n",
       " 145.9037974841175,\n",
       " 146.01825688143072,\n",
       " 147.02864120563447,\n",
       " 147.47253452351265,\n",
       " 148.08890289551002,\n",
       " 148.69292898428412,\n",
       " 149.23058400945192,\n",
       " 150.16780812735112,\n",
       " 150.4481952266634,\n",
       " 151.56238160109035,\n",
       " 152.54135034803943,\n",
       " 153.4334297309356,\n",
       " 153.50279149124987,\n",
       " 153.76198653230577,\n",
       " 154.61335851357174,\n",
       " 155.34590081316685,\n",
       " 156.1761830230907,\n",
       " 157.6169862447261,\n",
       " 157.67021123218547,\n",
       " 156.74710390772796,\n",
       " 155.0045417446095,\n",
       " 155.9076360753272,\n",
       " 156.5636512625211,\n",
       " 156.8944993523225,\n",
       " 157.4181099886944,\n",
       " 157.4419545981112,\n",
       " 158.25510209016997,\n",
       " 158.50640841085854,\n",
       " 158.07519424192705,\n",
       " 158.31045009167127,\n",
       " 158.24300728041914,\n",
       " 158.64691086259356,\n",
       " 159.38083573453673,\n",
       " 160.08946910983366,\n",
       " 160.58833512527534,\n",
       " 157.4615732204237,\n",
       " 158.323654389253,\n",
       " 158.76326682845877,\n",
       " 159.85015099812045,\n",
       " 160.9213821486332,\n",
       " 162.26267179259156,\n",
       " 162.30077427216682,\n",
       " 162.49653451300955,\n",
       " 163.04192502547988,\n",
       " 163.77825611838816,\n",
       " 164.058666021934,\n",
       " 164.58284081097153,\n",
       " 165.23176183925236,\n",
       " 166.26664233627992,\n",
       " 167.07125250920814,\n",
       " 166.7838837228643,\n",
       " 167.53327159270714,\n",
       " 167.79965780288643,\n",
       " 168.29915489313944,\n",
       " 168.64688146807072,\n",
       " 169.80650749141404,\n",
       " 170.20879876620606,\n",
       " 171.2117937103465,\n",
       " 171.62686131515713,\n",
       " 171.23278874122843,\n",
       " 172.1838922598225,\n",
       " 173.0024414742231,\n",
       " 171.7784364194565,\n",
       " 172.7849045649048,\n",
       " 173.6092293004748,\n",
       " 174.1794826996923,\n",
       " 173.5506550413618,\n",
       " 174.1374508407047,\n",
       " 174.49761872951524,\n",
       " 174.34460934599898,\n",
       " 175.1747553231378,\n",
       " 175.88097385850682,\n",
       " 177.0230066285067,\n",
       " 175.7510050935328,\n",
       " 175.6897946407731,\n",
       " 175.70110602097824,\n",
       " 176.51309197018773,\n",
       " 176.82059782186266,\n",
       " 177.55648104191616,\n",
       " 177.51577115903316,\n",
       " 177.68906042080263,\n",
       " 177.7180506248305,\n",
       " 178.31561710065284,\n",
       " 179.1128424522717,\n",
       " 179.50220192007345,\n",
       " 180.35023083707796,\n",
       " 181.01454959991653,\n",
       " 181.4354468640577,\n",
       " 181.61878911252236,\n",
       " 182.28394008275478,\n",
       " 182.92983927915662,\n",
       " 183.18919232074023,\n",
       " 184.1198450609221,\n",
       " 184.96564139837267,\n",
       " 185.55958866333432,\n",
       " 185.52882908700354,\n",
       " 186.47893232573006,\n",
       " 187.23520773227835,\n",
       " 187.25118229328186,\n",
       " 187.38790887996785,\n",
       " 188.4182789138236,\n",
       " 189.26465535265228,\n",
       " 189.1004435443702,\n",
       " 189.76066587231506]"
      ]
     },
     "execution_count": 70,
     "metadata": {},
     "output_type": "execute_result"
    }
   ],
   "source": [
    "waiting_time"
   ]
  },
  {
   "cell_type": "code",
   "execution_count": 71,
   "id": "40bd2b39-3c95-4a8b-8dc5-4c302a51200d",
   "metadata": {
    "scrolled": true
   },
   "outputs": [
    {
     "data": {
      "text/plain": [
       "[<matplotlib.lines.Line2D at 0x1cbac2eafa0>]"
      ]
     },
     "execution_count": 71,
     "metadata": {},
     "output_type": "execute_result"
    },
    {
     "data": {
      "image/png": "[encoded data removed]",
      "text/plain": [
       "<Figure size 432x288 with 1 Axes>"
      ]
     },
     "metadata": {
      "needs_background": "light"
     },
     "output_type": "display_data"
    }
   ],
   "source": [
    "import matplotlib.pyplot as plt \n",
    "plt.plot(waiting_time)"
   ]
  },
  {
   "cell_type": "code",
   "execution_count": 72,
   "id": "292a0540-e283-4c11-a11c-2cf2bee3909a",
   "metadata": {
    "scrolled": true
   },
   "outputs": [
    {
     "data": {
      "text/plain": [
       "<matplotlib.collections.PathCollection at 0x1cbac2b34f0>"
      ]
     },
     "execution_count": 72,
     "metadata": {},
     "output_type": "execute_result"
    },
    {
     "data": {
      "image/png": "[encoded data removed]",
      "text/plain": [
       "<Figure size 432x288 with 1 Axes>"
      ]
     },
     "metadata": {
      "needs_background": "light"
     },
     "output_type": "display_data"
    }
   ],
   "source": [
    "plt.scatter(arrival_time,leaving_time)"
   ]
  },
  {
   "cell_type": "code",
   "execution_count": 73,
   "id": "55c03cdd-70ff-4b8f-ae36-e4fb474642f5",
   "metadata": {
    "scrolled": true,
    "tags": []
   },
   "outputs": [
    {
     "name": "stderr",
     "output_type": "stream",
     "text": [
      "C:\\Users\\Asus\\anaconda31\\lib\\site-packages\\seaborn\\distributions.py:2557: FutureWarning: `distplot` is a deprecated function and will be removed in a future version. Please adapt your code to use either `displot` (a figure-level function with similar flexibility) or `histplot` (an axes-level function for histograms).\n",
      "  warnings.warn(msg, FutureWarning)\n"
     ]
    },
    {
     "data": {
      "text/plain": [
       "<AxesSubplot:ylabel='Density'>"
      ]
     },
     "execution_count": 73,
     "metadata": {},
     "output_type": "execute_result"
    },
    {
     "data": {
      "image/png": "[encoded data removed]",
      "text/plain": [
       "<Figure size 432x288 with 1 Axes>"
      ]
     },
     "metadata": {
      "needs_background": "light"
     },
     "output_type": "display_data"
    }
   ],
   "source": [
    "import seaborn as sns\n",
    "sns.distplot(leaving_time)"
   ]
  },
  {
   "cell_type": "code",
   "execution_count": 74,
   "id": "fe70e627-bbed-4269-a5f6-90f542caf7cf",
   "metadata": {
    "scrolled": true
   },
   "outputs": [
    {
     "name": "stderr",
     "output_type": "stream",
     "text": [
      "C:\\Users\\Asus\\anaconda31\\lib\\site-packages\\seaborn\\distributions.py:2557: FutureWarning: `distplot` is a deprecated function and will be removed in a future version. Please adapt your code to use either `displot` (a figure-level function with similar flexibility) or `histplot` (an axes-level function for histograms).\n",
      "  warnings.warn(msg, FutureWarning)\n"
     ]
    },
    {
     "data": {
      "text/plain": [
       "<AxesSubplot:ylabel='Density'>"
      ]
     },
     "execution_count": 74,
     "metadata": {},
     "output_type": "execute_result"
    },
    {
     "data": {
      "image/png": "[encoded data removed]",
      "text/plain": [
       "<Figure size 432x288 with 1 Axes>"
      ]
     },
     "metadata": {
      "needs_background": "light"
     },
     "output_type": "display_data"
    }
   ],
   "source": [
    "sns.distplot(arrival_time)"
   ]
  },
  {
   "cell_type": "code",
   "execution_count": 75,
   "id": "4959bb45-6ceb-4712-9b9f-f5a87a4e4e7b",
   "metadata": {
    "scrolled": true
   },
   "outputs": [
    {
     "name": "stderr",
     "output_type": "stream",
     "text": [
      "C:\\Users\\Asus\\anaconda31\\lib\\site-packages\\seaborn\\distributions.py:2557: FutureWarning: `distplot` is a deprecated function and will be removed in a future version. Please adapt your code to use either `displot` (a figure-level function with similar flexibility) or `histplot` (an axes-level function for histograms).\n",
      "  warnings.warn(msg, FutureWarning)\n"
     ]
    },
    {
     "data": {
      "text/plain": [
       "<AxesSubplot:ylabel='Density'>"
      ]
     },
     "execution_count": 75,
     "metadata": {},
     "output_type": "execute_result"
    },
    {
     "data": {
      "image/png": "[encoded data removed]",
      "text/plain": [
       "<Figure size 432x288 with 1 Axes>"
      ]
     },
     "metadata": {
      "needs_background": "light"
     },
     "output_type": "display_data"
    }
   ],
   "source": [
    "sns.distplot(waiting_time)\n"
   ]
  },
  {
   "cell_type": "code",
   "execution_count": 76,
   "id": "540d30fe-c830-4b02-8a14-1b3d44b3d8f9",
   "metadata": {
    "scrolled": true
   },
   "outputs": [
    {
     "data": {
      "text/plain": [
       "94.80099361224116"
      ]
     },
     "execution_count": 76,
     "metadata": {},
     "output_type": "execute_result"
    }
   ],
   "source": [
    "np.mean(waiting_time)"
   ]
  },
  {
   "cell_type": "code",
   "execution_count": 164,
   "id": "f0a23c77-0d19-47bb-95d0-8ba97ee3986a",
   "metadata": {
    "scrolled": true
   },
   "outputs": [],
   "source": [
    "\n",
    "import random\n",
    "mean_waiting_times= []\n",
    "\n",
    "\n",
    "waiting_time= []\n",
    "leaving_time=[]\n",
    "arrival_time= np.cumsum([random.expovariate(4/6) for i in range(0,1000)])\n",
    "arrival_time2= np.random.exponential(1.4,1000)\n",
    "interarrival_time=[random.expovariate(4/6) for i in range(0,1000)]\n",
    "service_time= np.random.exponential(7,1000)\n",
    "waiting_time.append(0)\n",
    "leaving_time.append(service_time[0]+list(arrival_time)[0]+waiting_time[0])\n",
    "# #     waiting_time.append(simulation(waiting_time,leaving_time))\n",
    "\n",
    "# mean_waiting_times.append(simulation(waiting_time,leaving_time))\n",
    "\n",
    "def simulation(waiting_time,leaving_time):\n",
    "    \n",
    "    for i in range(1, len(arrival_time)):\n",
    "        waiting_time.append(max(0,leaving_time[i-1]-list(arrival_time)[i]))\n",
    "        leaving_time.append(list(arrival_time)[i]+waiting_time[i]+service_time[i])\n",
    "        \n",
    "    return np.mean(waiting_time)\n",
    "\n",
    "\n",
    "    "
   ]
  },
  {
   "cell_type": "code",
   "execution_count": 165,
   "id": "aee00ef0-3dcb-4110-8177-281b6ec96073",
   "metadata": {},
   "outputs": [
    {
     "data": {
      "text/plain": [
       "2395.303982520605"
      ]
     },
     "execution_count": 165,
     "metadata": {},
     "output_type": "execute_result"
    }
   ],
   "source": [
    "simulation(waiting_time,leaving_time)"
   ]
  },
  {
   "cell_type": "code",
   "execution_count": 163,
   "id": "cc966075-97b1-4f6c-a765-fb94efac7a83",
   "metadata": {},
   "outputs": [
    {
     "data": {
      "text/plain": [
       "1000"
      ]
     },
     "execution_count": 163,
     "metadata": {},
     "output_type": "execute_result"
    }
   ],
   "source": [
    "len(list(arrival_time))"
   ]
  },
  {
   "cell_type": "code",
   "execution_count": 158,
   "id": "c83eb08b-9b29-485e-aeaa-558ce4b04ac2",
   "metadata": {},
   "outputs": [
    {
     "name": "stderr",
     "output_type": "stream",
     "text": [
      "C:\\Users\\Asus\\anaconda31\\lib\\site-packages\\seaborn\\distributions.py:2557: FutureWarning: `distplot` is a deprecated function and will be removed in a future version. Please adapt your code to use either `displot` (a figure-level function with similar flexibility) or `histplot` (an axes-level function for histograms).\n",
      "  warnings.warn(msg, FutureWarning)\n"
     ]
    },
    {
     "data": {
      "text/plain": [
       "<AxesSubplot:ylabel='Density'>"
      ]
     },
     "execution_count": 158,
     "metadata": {},
     "output_type": "execute_result"
    },
    {
     "data": {
      "image/png": "[encoded data removed]",
      "text/plain": [
       "<Figure size 432x288 with 1 Axes>"
      ]
     },
     "metadata": {
      "needs_background": "light"
     },
     "output_type": "display_data"
    }
   ],
   "source": [
    "sns.distplot(arrival_time2)"
   ]
  },
  {
   "cell_type": "code",
   "execution_count": 147,
   "id": "cc682c3f-272a-46bc-a220-b22e4b85e873",
   "metadata": {},
   "outputs": [
    {
     "name": "stderr",
     "output_type": "stream",
     "text": [
      "C:\\Users\\Asus\\anaconda31\\lib\\site-packages\\seaborn\\distributions.py:2557: FutureWarning: `distplot` is a deprecated function and will be removed in a future version. Please adapt your code to use either `displot` (a figure-level function with similar flexibility) or `histplot` (an axes-level function for histograms).\n",
      "  warnings.warn(msg, FutureWarning)\n"
     ]
    },
    {
     "data": {
      "text/plain": [
       "<AxesSubplot:ylabel='Density'>"
      ]
     },
     "execution_count": 147,
     "metadata": {},
     "output_type": "execute_result"
    },
    {
     "data": {
      "image/png": "[encoded data removed]",
      "text/plain": [
       "<Figure size 432x288 with 1 Axes>"
      ]
     },
     "metadata": {
      "needs_background": "light"
     },
     "output_type": "display_data"
    }
   ],
   "source": [
    "sns.distplot(interarrival_time)"
   ]
  },
  {
   "cell_type": "code",
   "execution_count": 148,
   "id": "f9e4ea04-c598-4e95-a2fd-b43f387023e7",
   "metadata": {},
   "outputs": [
    {
     "data": {
      "text/plain": [
       "[<matplotlib.lines.Line2D at 0x1cbae919f70>]"
      ]
     },
     "execution_count": 148,
     "metadata": {},
     "output_type": "execute_result"
    },
    {
     "data": {
      "image/png": "[encoded data removed]",
      "text/plain": [
       "<Figure size 432x288 with 1 Axes>"
      ]
     },
     "metadata": {
      "needs_background": "light"
     },
     "output_type": "display_data"
    }
   ],
   "source": [
    "plt.plot(np.divide(interarrival_time,service_time))"
   ]
  },
  {
   "cell_type": "code",
   "execution_count": 149,
   "id": "3e73e2b6-4ca6-485c-b93b-e8596d36168a",
   "metadata": {},
   "outputs": [
    {
     "data": {
      "text/plain": [
       "(array([452., 234., 136.,  81.,  42.,  26.,  14.,   8.,   5.,   2.]),\n",
       " array([3.04739291e-03, 3.93858637e+00, 7.87412535e+00, 1.18096643e+01,\n",
       "        1.57452033e+01, 1.96807423e+01, 2.36162813e+01, 2.75518202e+01,\n",
       "        3.14873592e+01, 3.54228982e+01, 3.93584372e+01]),\n",
       " <BarContainer object of 10 artists>)"
      ]
     },
     "execution_count": 149,
     "metadata": {},
     "output_type": "execute_result"
    },
    {
     "data": {
      "image/png": "[encoded data removed]",
      "text/plain": [
       "<Figure size 432x288 with 1 Axes>"
      ]
     },
     "metadata": {
      "needs_background": "light"
     },
     "output_type": "display_data"
    }
   ],
   "source": [
    "plt.hist(service_time)"
   ]
  },
  {
   "cell_type": "code",
   "execution_count": 150,
   "id": "1cc27ab4-b520-413d-9dd5-1a134bc99ea8",
   "metadata": {},
   "outputs": [
    {
     "data": {
      "text/plain": [
       "(array([479., 237., 118.,  76.,  31.,  24.,  17.,  10.,   2.,   6.]),\n",
       " array([1.01660264e-03, 9.08155349e-01, 1.81529410e+00, 2.72243284e+00,\n",
       "        3.62957159e+00, 4.53671033e+00, 5.44384908e+00, 6.35098783e+00,\n",
       "        7.25812657e+00, 8.16526532e+00, 9.07240407e+00]),\n",
       " <BarContainer object of 10 artists>)"
      ]
     },
     "execution_count": 150,
     "metadata": {},
     "output_type": "execute_result"
    },
    {
     "data": {
      "image/png": "[encoded data removed]",
      "text/plain": [
       "<Figure size 432x288 with 1 Axes>"
      ]
     },
     "metadata": {
      "needs_background": "light"
     },
     "output_type": "display_data"
    }
   ],
   "source": [
    "plt.hist(interarrival_time)"
   ]
  },
  {
   "cell_type": "code",
   "execution_count": 140,
   "id": "22d8cbaa-7a05-43d4-90ce-ea22e065dc13",
   "metadata": {},
   "outputs": [
    {
     "data": {
      "text/plain": [
       "60.613512993043955"
      ]
     },
     "execution_count": 140,
     "metadata": {},
     "output_type": "execute_result"
    }
   ],
   "source": [
    "service_time.max()"
   ]
  },
  {
   "cell_type": "code",
   "execution_count": 142,
   "id": "a7f892c9-28b0-44c5-b3bf-778e98777024",
   "metadata": {
    "scrolled": true
   },
   "outputs": [
    {
     "data": {
      "text/plain": [
       "1.487734994996356"
      ]
     },
     "execution_count": 142,
     "metadata": {},
     "output_type": "execute_result"
    }
   ],
   "source": [
    "np.mean(interarrival_time)"
   ]
  },
  {
   "cell_type": "code",
   "execution_count": 103,
   "id": "ae98654e-74f6-4d26-b19f-6dbbadc40451",
   "metadata": {},
   "outputs": [
    {
     "data": {
      "text/plain": [
       "<AxesSubplot:ylabel='Count'>"
      ]
     },
     "execution_count": 103,
     "metadata": {},
     "output_type": "execute_result"
    },
    {
     "data": {
      "image/png": "[encoded data removed]",
      "text/plain": [
       "<Figure size 432x288 with 1 Axes>"
      ]
     },
     "metadata": {
      "needs_background": "light"
     },
     "output_type": "display_data"
    }
   ],
   "source": [
    "sns.histplot(mean_waiting_times)"
   ]
  },
  {
   "cell_type": "code",
   "execution_count": 104,
   "id": "54ae2974-d7ca-41e1-a25b-9ba0623635d0",
   "metadata": {},
   "outputs": [
    {
     "name": "stderr",
     "output_type": "stream",
     "text": [
      "C:\\Users\\Asus\\anaconda31\\lib\\site-packages\\seaborn\\distributions.py:2557: FutureWarning: `distplot` is a deprecated function and will be removed in a future version. Please adapt your code to use either `displot` (a figure-level function with similar flexibility) or `histplot` (an axes-level function for histograms).\n",
      "  warnings.warn(msg, FutureWarning)\n"
     ]
    },
    {
     "data": {
      "text/plain": [
       "<AxesSubplot:ylabel='Density'>"
      ]
     },
     "execution_count": 104,
     "metadata": {},
     "output_type": "execute_result"
    },
    {
     "data": {
      "image/png": "[encoded data removed]",
      "text/plain": [
       "<Figure size 432x288 with 1 Axes>"
      ]
     },
     "metadata": {
      "needs_background": "light"
     },
     "output_type": "display_data"
    }
   ],
   "source": [
    "sns.distplot(mean_waiting_times)"
   ]
  },
  {
   "cell_type": "code",
   "execution_count": 105,
   "id": "91ad0c99-1de1-46c7-8eba-9830d1c25937",
   "metadata": {},
   "outputs": [
    {
     "data": {
      "text/plain": [
       "list"
      ]
     },
     "execution_count": 105,
     "metadata": {},
     "output_type": "execute_result"
    }
   ],
   "source": [
    "type(mean_waiting_times)"
   ]
  },
  {
   "cell_type": "code",
   "execution_count": 106,
   "id": "333acbbc-0190-4322-8762-3dcde2335153",
   "metadata": {},
   "outputs": [
    {
     "data": {
      "text/plain": [
       "1.1057973943359094"
      ]
     },
     "execution_count": 106,
     "metadata": {},
     "output_type": "execute_result"
    }
   ],
   "source": [
    "max(mean_waiting_times)"
   ]
  },
  {
   "cell_type": "code",
   "execution_count": 107,
   "id": "e489bda6-57aa-448d-95fe-953a9c6e7e2c",
   "metadata": {},
   "outputs": [
    {
     "data": {
      "text/plain": [
       "0.2676252545991143"
      ]
     },
     "execution_count": 107,
     "metadata": {},
     "output_type": "execute_result"
    }
   ],
   "source": [
    "min(mean_waiting_times)"
   ]
  },
  {
   "cell_type": "code",
   "execution_count": 108,
   "id": "8d48dd6c-47a4-4b0c-9bf6-c4fea358dc51",
   "metadata": {},
   "outputs": [
    {
     "data": {
      "text/plain": [
       "0.5183642961985782"
      ]
     },
     "execution_count": 108,
     "metadata": {},
     "output_type": "execute_result"
    }
   ],
   "source": [
    "np.mean(mean_waiting_times)"
   ]
  },
  {
   "cell_type": "code",
   "execution_count": null,
   "id": "9522c26d-a941-4a1f-9a68-b2578284e391",
   "metadata": {},
   "outputs": [],
   "source": []
  },
  {
   "cell_type": "code",
   "execution_count": 166,
   "id": "cd4c1e93-724d-4cc1-8145-8841c0e609a7",
   "metadata": {},
   "outputs": [],
   "source": [
    "\n",
    "import random\n",
    "mean_waiting_times= []\n",
    "\n",
    "\n",
    "waiting_time= []\n",
    "leaving_time=[]\n",
    "arrival_time= np.cumsum([random.expovariate(4/6) for i in range(0,1000)])\n",
    "arrival_time2= np.random.exponential(1.4,1000)\n",
    "interarrival_time=[random.expovariate(4/6) for i in range(0,1000)]\n",
    "## 4 service centres\n",
    "\n",
    "service_time= np.random.exponential(7/4,1000)\n",
    "waiting_time.append(0)\n",
    "leaving_time.append(service_time[0]+list(arrival_time)[0]+waiting_time[0])\n",
    "# #     waiting_time.append(simulation(waiting_time,leaving_time))\n",
    "\n",
    "# mean_waiting_times.append(simulation(waiting_time,leaving_time))\n",
    "\n",
    "def simulation(waiting_time,leaving_time):\n",
    "    \n",
    "    for i in range(1, len(arrival_time)):\n",
    "        waiting_time.append(max(0,leaving_time[i-1]-list(arrival_time)[i]))\n",
    "        leaving_time.append(list(arrival_time)[i]+waiting_time[i]+service_time[i])\n",
    "        \n",
    "    return np.mean(waiting_time)\n",
    "\n",
    "\n",
    "    "
   ]
  },
  {
   "cell_type": "code",
   "execution_count": 167,
   "id": "e212f822-8732-4e65-9043-27bcff8e01d8",
   "metadata": {},
   "outputs": [
    {
     "data": {
      "text/plain": [
       "153.78863964437218"
      ]
     },
     "execution_count": 167,
     "metadata": {},
     "output_type": "execute_result"
    }
   ],
   "source": [
    "simulation(waiting_time,leaving_time)"
   ]
  },
  {
   "cell_type": "code",
   "execution_count": 168,
   "id": "cd6c4a3b-90d0-4da4-905a-e05e7968d8ae",
   "metadata": {},
   "outputs": [],
   "source": [
    "\n",
    "import random\n",
    "mean_waiting_times= []\n",
    "\n",
    "\n",
    "waiting_time= []\n",
    "leaving_time=[]\n",
    "arrival_time= np.cumsum([random.expovariate(4/6) for i in range(0,1000)])\n",
    "arrival_time2= np.random.exponential(1.4,1000)\n",
    "interarrival_time=[random.expovariate(4/6) for i in range(0,1000)]\n",
    "## 8 service centres\n",
    "\n",
    "service_time= np.random.exponential(7/8,1000)\n",
    "waiting_time.append(0)\n",
    "leaving_time.append(service_time[0]+list(arrival_time)[0]+waiting_time[0])\n",
    "# #     waiting_time.append(simulation(waiting_time,leaving_time))\n",
    "\n",
    "# mean_waiting_times.append(simulation(waiting_time,leaving_time))\n",
    "\n",
    "def simulation(waiting_time,leaving_time):\n",
    "    \n",
    "    for i in range(1, len(arrival_time)):\n",
    "        waiting_time.append(max(0,leaving_time[i-1]-list(arrival_time)[i]))\n",
    "        leaving_time.append(list(arrival_time)[i]+waiting_time[i]+service_time[i])\n",
    "        \n",
    "    return np.mean(waiting_time)\n",
    "\n",
    "\n",
    "    "
   ]
  },
  {
   "cell_type": "code",
   "execution_count": 169,
   "id": "2d1e7d1c-d69b-4f72-91a1-7e9c9e47b4da",
   "metadata": {},
   "outputs": [
    {
     "data": {
      "text/plain": [
       "1.2974714044021816"
      ]
     },
     "execution_count": 169,
     "metadata": {},
     "output_type": "execute_result"
    }
   ],
   "source": [
    "simulation(waiting_time,leaving_time)"
   ]
  },
  {
   "cell_type": "code",
   "execution_count": 174,
   "id": "648aa929-2a2f-454d-a9ef-4429095ecdef",
   "metadata": {},
   "outputs": [],
   "source": [
    "\n",
    "import random\n",
    "mean_waiting_times= []\n",
    "\n",
    "\n",
    "waiting_time= []\n",
    "leaving_time=[]\n",
    "arrival_time= np.cumsum([random.expovariate(4/6) for i in range(0,1000)])\n",
    "arrival_time2= np.random.exponential(1.4,1000)\n",
    "interarrival_time=[random.expovariate(4/6) for i in range(0,1000)]\n",
    "## 5 service centres\n",
    "\n",
    "service_time= np.random.exponential(7/5,1000)\n",
    "waiting_time.append(0)\n",
    "leaving_time.append(service_time[0]+list(arrival_time)[0]+waiting_time[0])\n",
    "# #     waiting_time.append(simulation(waiting_time,leaving_time))\n",
    "\n",
    "# mean_waiting_times.append(simulation(waiting_time,leaving_time))\n",
    "\n",
    "def simulation(waiting_time,leaving_time):\n",
    "    \n",
    "    for i in range(1, len(arrival_time)):\n",
    "        waiting_time.append(max(0,leaving_time[i-1]-list(arrival_time)[i]))\n",
    "        leaving_time.append(list(arrival_time)[i]+waiting_time[i]+service_time[i])\n",
    "        \n",
    "    return np.mean(waiting_time)\n",
    "\n",
    "\n",
    "    "
   ]
  },
  {
   "cell_type": "code",
   "execution_count": 175,
   "id": "f5b26d96-8071-4d5a-bea2-9c9f8c170d96",
   "metadata": {},
   "outputs": [
    {
     "data": {
      "text/plain": [
       "10.980424840366824"
      ]
     },
     "execution_count": 175,
     "metadata": {},
     "output_type": "execute_result"
    }
   ],
   "source": [
    "simulation(waiting_time,leaving_time)"
   ]
  },
  {
   "cell_type": "code",
   "execution_count": 176,
   "id": "03bb1d8e-4676-482d-a521-267d35e77677",
   "metadata": {},
   "outputs": [],
   "source": [
    "\n",
    "import random\n",
    "mean_waiting_times= []\n",
    "\n",
    "\n",
    "waiting_time= []\n",
    "leaving_time=[]\n",
    "arrival_time= np.cumsum([random.expovariate(4/6) for i in range(0,1000)])\n",
    "arrival_time2= np.random.exponential(1.4,1000)\n",
    "interarrival_time=[random.expovariate(4/6) for i in range(0,1000)]\n",
    "## 6 service centres\n",
    "\n",
    "service_time= np.random.exponential(7/6,1000)\n",
    "waiting_time.append(0)\n",
    "leaving_time.append(service_time[0]+list(arrival_time)[0]+waiting_time[0])\n",
    "# #     waiting_time.append(simulation(waiting_time,leaving_time))\n",
    "\n",
    "# mean_waiting_times.append(simulation(waiting_time,leaving_time))\n",
    "\n",
    "def simulation(waiting_time,leaving_time):\n",
    "    \n",
    "    for i in range(1, len(arrival_time)):\n",
    "        waiting_time.append(max(0,leaving_time[i-1]-list(arrival_time)[i]))\n",
    "        leaving_time.append(list(arrival_time)[i]+waiting_time[i]+service_time[i])\n",
    "        \n",
    "    return np.mean(waiting_time)\n",
    "\n",
    "\n",
    "    "
   ]
  },
  {
   "cell_type": "code",
   "execution_count": 177,
   "id": "b5c3aa21-23cf-4caf-83e5-6290d1f6d944",
   "metadata": {},
   "outputs": [
    {
     "data": {
      "text/plain": [
       "4.513411957929217"
      ]
     },
     "execution_count": 177,
     "metadata": {},
     "output_type": "execute_result"
    }
   ],
   "source": [
    "simulation(waiting_time,leaving_time)"
   ]
  },
  {
   "cell_type": "code",
   "execution_count": 255,
   "id": "f2e3098a-bc80-44b7-8753-7a9915de2f19",
   "metadata": {},
   "outputs": [],
   "source": [
    "\n",
    "import random\n",
    "mean_waiting_times= []\n",
    "\n",
    "\n",
    "waiting_time= []\n",
    "leaving_time=[]\n",
    "arrival_time= np.cumsum([random.expovariate(4/6) for i in range(0,1000)])\n",
    "arrival_time2= np.random.exponential(0.5,1000)\n",
    "interarrival_time=[random.expovariate(4/6) for i in range(0,1000)]\n",
    "## 6 service centres\n",
    "\n",
    "\n",
    "mean_waiting_times= []\n",
    "\n",
    "def simulation(waiting_time,leaving_time):\n",
    "    global mean_waiting_times\n",
    "\n",
    "    # #     waiting_time.append(simulation(waiting_time,leaving_time))\n",
    "\n",
    "    # mean_waiting_times.append(simulation(waiting_time,leaving_time))\n",
    "    for j in range(1,20):    \n",
    "\n",
    "\n",
    "\n",
    "        waiting_time= []\n",
    "        leaving_time=[]\n",
    "        arrival_time= np.cumsum([random.expovariate(4/6) for i in range(0,1000)])\n",
    "        arrival_time2= np.cumsum(np.random.exponential(7.5*j,1000))\n",
    "        interarrival_time=[random.expovariate(4/6) for i in range(0,1000)]\n",
    "\n",
    "\n",
    "        service_time= np.random.exponential(5,1000)\n",
    "        waiting_time.append(0)\n",
    "        leaving_time.append(service_time[0]+list(arrival_time)[0]+waiting_time[0])\n",
    "\n",
    "        for i in range(1, len(arrival_time2)):\n",
    "            waiting_time.append(max(0,leaving_time[i-1]-list(arrival_time2)[i]))\n",
    "            leaving_time.append(list(arrival_time2)[i]+waiting_time[i]+service_time[i])\n",
    "\n",
    "        mean_waiting_times.append( np.mean(waiting_time))\n",
    "#         print(mean_waiting_times)\n",
    "\n",
    "    return mean_waiting_times\n",
    "\n",
    "\n",
    "\n",
    "    "
   ]
  },
  {
   "cell_type": "code",
   "execution_count": 256,
   "id": "3ebb3910-333e-4c72-9a90-c08dad1bc428",
   "metadata": {},
   "outputs": [],
   "source": [
    "times=simulation(waiting_time,leaving_time)"
   ]
  },
  {
   "cell_type": "code",
   "execution_count": 257,
   "id": "e71a019e-2e0d-4ff7-ad69-333e31609a4a",
   "metadata": {},
   "outputs": [
    {
     "data": {
      "text/plain": [
       "19"
      ]
     },
     "execution_count": 257,
     "metadata": {},
     "output_type": "execute_result"
    }
   ],
   "source": [
    "len(times)"
   ]
  },
  {
   "cell_type": "code",
   "execution_count": 258,
   "id": "bdeb359c-db44-4095-98c4-bf0e0b5d8a48",
   "metadata": {},
   "outputs": [
    {
     "data": {
      "text/plain": [
       "[7.7363993164863025,\n",
       " 2.5481412108409094,\n",
       " 1.4202509477793552,\n",
       " 0.963453978783862,\n",
       " 0.8475231289706288,\n",
       " 0.6187251079982059,\n",
       " 0.6197943172164201,\n",
       " 0.5728010827960452,\n",
       " 0.3291254014617647,\n",
       " 0.4325184143516376,\n",
       " 0.510562935197473,\n",
       " 0.3814920683267258,\n",
       " 0.2951873242061324,\n",
       " 0.28563841031234494,\n",
       " 0.176095469477834,\n",
       " 0.19599064140695371,\n",
       " 0.13603655547771587,\n",
       " 0.2700063629260669,\n",
       " 0.13799220302466733]"
      ]
     },
     "execution_count": 258,
     "metadata": {},
     "output_type": "execute_result"
    }
   ],
   "source": [
    "times"
   ]
  },
  {
   "cell_type": "code",
   "execution_count": 251,
   "id": "b45e2e35-b525-4fdc-a68c-53635381bee9",
   "metadata": {},
   "outputs": [
    {
     "name": "stderr",
     "output_type": "stream",
     "text": [
      "C:\\Users\\Asus\\anaconda31\\lib\\site-packages\\seaborn\\_decorators.py:36: FutureWarning: Pass the following variables as keyword args: x, y. From version 0.12, the only valid positional argument will be `data`, and passing other arguments without an explicit keyword will result in an error or misinterpretation.\n",
      "  warnings.warn(\n"
     ]
    },
    {
     "data": {
      "text/plain": [
       "<AxesSubplot:>"
      ]
     },
     "execution_count": 251,
     "metadata": {},
     "output_type": "execute_result"
    },
    {
     "data": {
      "image/png": "[encoded data removed]",
      "text/plain": [
       "<Figure size 432x288 with 1 Axes>"
      ]
     },
     "metadata": {
      "needs_background": "light"
     },
     "output_type": "display_data"
    }
   ],
   "source": [
    "sns.scatterplot(range(1,20),times)"
   ]
  },
  {
   "cell_type": "code",
   "execution_count": 252,
   "id": "beffb2eb-10bd-4ad3-a05a-9f534798056d",
   "metadata": {},
   "outputs": [
    {
     "data": {
      "text/plain": [
       "[221.73444831726033,\n",
       " 9.24261792912968,\n",
       " 4.045912118031957,\n",
       " 3.180252331337265,\n",
       " 2.501572153356767,\n",
       " 1.787093258664108,\n",
       " 1.4276077839167405,\n",
       " 1.1159243083110808,\n",
       " 0.9237299655748589,\n",
       " 0.8766886444750825,\n",
       " 0.7247533187412757,\n",
       " 0.7331930166000334,\n",
       " 0.6519010023995497,\n",
       " 0.8085186063419836,\n",
       " 0.7367200244414689,\n",
       " 0.5282123090623714,\n",
       " 0.7513873306986468,\n",
       " 0.5928966158544193,\n",
       " 0.4531061700387802]"
      ]
     },
     "execution_count": 252,
     "metadata": {},
     "output_type": "execute_result"
    }
   ],
   "source": [
    "mean_waiting_times"
   ]
  },
  {
   "cell_type": "code",
   "execution_count": 253,
   "id": "72a74717-aec2-476b-8a6a-9fc557eff2de",
   "metadata": {},
   "outputs": [
    {
     "data": {
      "text/plain": [
       "[<matplotlib.lines.Line2D at 0x1cbb047a190>]"
      ]
     },
     "execution_count": 253,
     "metadata": {},
     "output_type": "execute_result"
    },
    {
     "data": {
      "image/png": "[encoded data removed]",
      "text/plain": [
       "<Figure size 2160x720 with 1 Axes>"
      ]
     },
     "metadata": {
      "needs_background": "light"
     },
     "output_type": "display_data"
    }
   ],
   "source": [
    "plt.figure(figsize=[30,10])\n",
    "plt.plot(range(1,20),times)"
   ]
  },
  {
   "cell_type": "code",
   "execution_count": null,
   "id": "3ec8fe2f-5ab3-4a44-828e-abecdf76f4bb",
   "metadata": {},
   "outputs": [],
   "source": []
  },
  {
   "cell_type": "code",
   "execution_count": 292,
   "id": "ccc43e0a-4a66-4bc1-82b1-4b8ba068ed2b",
   "metadata": {},
   "outputs": [],
   "source": [
    "\n",
    "import random\n",
    "mean_waiting_times= []\n",
    "\n",
    "\n",
    "waiting_time= []\n",
    "leaving_time=[]\n",
    "arrival_time= np.cumsum([random.expovariate(4/6) for i in range(0,1000)])\n",
    "arrival_time2= np.random.exponential(0.5,1000)\n",
    "interarrival_time=[random.expovariate(4/6) for i in range(0,1000)]\n",
    "## 6 service centres\n",
    "\n",
    "mean_waiting_times_system=[]\n",
    "mean_waiting_times= []\n",
    "\n",
    "def simulation(waiting_time,leaving_time):\n",
    "    global mean_waiting_times\n",
    "\n",
    "    # #     waiting_time.append(simulation(waiting_time,leaving_time))\n",
    "\n",
    "    # mean_waiting_times.append(simulation(waiting_time,leaving_time))\n",
    "    for j in range(1,100):    \n",
    "\n",
    "\n",
    "\n",
    "        waiting_time= []\n",
    "        leaving_time=[]\n",
    "        waiting_time_system=[]\n",
    "        arrival_time= np.cumsum([random.expovariate(4/6) for i in range(0,1000)])\n",
    "        arrival_time2= np.cumsum(np.random.exponential(7.5*1,1000))\n",
    "        interarrival_time=[random.expovariate(4/6) for i in range(0,1000)]\n",
    "\n",
    "\n",
    "        service_time= np.random.exponential(5,1000)\n",
    "        waiting_time.append(0)\n",
    "        leaving_time.append(service_time[0]+list(arrival_time)[0]+waiting_time[0])\n",
    "\n",
    "        for i in range(1, len(arrival_time2)):\n",
    "            waiting_time.append(max(0,leaving_time[i-1]-list(arrival_time2)[i]))\n",
    "            leaving_time.append(list(arrival_time2)[i]+waiting_time[i]+service_time[i])\n",
    "            \n",
    "            waiting_time_system.append(max(0,leaving_time[i-1]-list(arrival_time2)[i])+service_time[i])\n",
    "            \n",
    "\n",
    "        mean_waiting_times.append( np.mean(waiting_time))\n",
    "        mean_waiting_times_system.append(np.mean(waiting_time_system))\n",
    "#         print(mean_waiting_times)\n",
    "\n",
    "    return mean_waiting_times,mean_waiting_times_system\n",
    "\n",
    "\n",
    "\n",
    "    "
   ]
  },
  {
   "cell_type": "code",
   "execution_count": 293,
   "id": "f362c94a-74be-435c-a265-c603ac737b44",
   "metadata": {},
   "outputs": [],
   "source": [
    "times,system_time=simulation(waiting_time,leaving_time)"
   ]
  },
  {
   "cell_type": "code",
   "execution_count": 294,
   "id": "3a99465b-984e-4e83-8717-01323e147828",
   "metadata": {},
   "outputs": [
    {
     "data": {
      "text/plain": [
       "[11.239474971175499,\n",
       " 8.873058245322452,\n",
       " 8.624920770925552,\n",
       " 8.762742366343362,\n",
       " 6.945895365464018,\n",
       " 10.722999628371731,\n",
       " 9.564651771467831,\n",
       " 9.21259120825742,\n",
       " 8.990416210866687,\n",
       " 10.896188775351519,\n",
       " 12.598484322305346,\n",
       " 17.371605544058788,\n",
       " 11.180263638992656,\n",
       " 12.642741709891041,\n",
       " 11.036111823605964,\n",
       " 10.638264830058434,\n",
       " 8.707787883482997,\n",
       " 8.722743216601431,\n",
       " 7.71194294445313,\n",
       " 8.755307877953987,\n",
       " 7.53462136672755,\n",
       " 7.253336514871564,\n",
       " 9.287647551186891,\n",
       " 12.881037797855827,\n",
       " 7.259862899921966,\n",
       " 17.078511327031126,\n",
       " 8.601873297709503,\n",
       " 13.674744516481804,\n",
       " 17.256346397975292,\n",
       " 8.796481696565175,\n",
       " 9.403209579550815,\n",
       " 11.427468870384828,\n",
       " 9.501106977977411,\n",
       " 8.632960839681179,\n",
       " 12.3970645531462,\n",
       " 8.041223296387821,\n",
       " 8.410061314177023,\n",
       " 9.102775484750213,\n",
       " 8.218713738739204,\n",
       " 10.619620717923828,\n",
       " 7.980463266665947,\n",
       " 8.795809869454201,\n",
       " 6.1910635662032965,\n",
       " 5.666138158849423,\n",
       " 6.3769904667138055,\n",
       " 6.632920678587055,\n",
       " 12.10254974042078,\n",
       " 7.371476485684327,\n",
       " 7.679729097490328,\n",
       " 12.40315431098265,\n",
       " 11.962012670669104,\n",
       " 7.620938236467305,\n",
       " 5.753027188894507,\n",
       " 7.051736384395419,\n",
       " 8.596266675690662,\n",
       " 8.607066699898818,\n",
       " 11.90496475732005,\n",
       " 10.859575663460317,\n",
       " 13.446509276112888,\n",
       " 8.780017624540505,\n",
       " 7.432035439876154,\n",
       " 9.153043292834608,\n",
       " 13.142847755300291,\n",
       " 8.65201714810342,\n",
       " 8.428932392555359,\n",
       " 8.47135508515402,\n",
       " 13.378390181977426,\n",
       " 8.219977233201043,\n",
       " 8.151662831062426,\n",
       " 9.694055067068492,\n",
       " 11.912759203149413,\n",
       " 9.331152120482196,\n",
       " 8.948324203027763,\n",
       " 8.525867736929522,\n",
       " 9.354002128397935,\n",
       " 8.36862268536667,\n",
       " 16.297719144032623,\n",
       " 7.770838171559915,\n",
       " 7.957011218062967,\n",
       " 7.763700893415618,\n",
       " 12.951354378428357,\n",
       " 9.148750580480074,\n",
       " 10.07706591411228,\n",
       " 10.743858176974133,\n",
       " 7.623601307644263,\n",
       " 11.183497872890152,\n",
       " 8.204936019243906,\n",
       " 8.537574678202171,\n",
       " 7.726638492591761,\n",
       " 10.601216884530565,\n",
       " 11.060693030791459,\n",
       " 9.391866150798558,\n",
       " 11.058516918456593,\n",
       " 7.525802965023798,\n",
       " 9.192073141759884,\n",
       " 11.382121387009928,\n",
       " 7.681903919841115,\n",
       " 8.690391765412453,\n",
       " 7.773724395946129]"
      ]
     },
     "execution_count": 294,
     "metadata": {},
     "output_type": "execute_result"
    }
   ],
   "source": [
    "times"
   ]
  },
  {
   "cell_type": "code",
   "execution_count": 295,
   "id": "6d7a42d6-3aeb-4816-8c54-697c1c2cd477",
   "metadata": {},
   "outputs": [
    {
     "data": {
      "text/plain": [
       "9.6552441876181"
      ]
     },
     "execution_count": 295,
     "metadata": {},
     "output_type": "execute_result"
    }
   ],
   "source": [
    "np.mean(times)"
   ]
  },
  {
   "cell_type": "code",
   "execution_count": 296,
   "id": "69d13369-7d43-4ad8-889b-a848eb77194c",
   "metadata": {},
   "outputs": [
    {
     "data": {
      "text/plain": [
       "14.656590012581434"
      ]
     },
     "execution_count": 296,
     "metadata": {},
     "output_type": "execute_result"
    }
   ],
   "source": [
    "np.mean(system_time)"
   ]
  },
  {
   "cell_type": "code",
   "execution_count": 297,
   "id": "aaaaf9b1-3546-4eea-9a0d-f00260105d40",
   "metadata": {},
   "outputs": [],
   "source": [
    "\n",
    "import random\n",
    "mean_waiting_times= []\n",
    "\n",
    "\n",
    "waiting_time= []\n",
    "leaving_time=[]\n",
    "arrival_time= np.cumsum([random.expovariate(4/6) for i in range(0,1000)])\n",
    "arrival_time2= np.random.exponential(0.5,1000)\n",
    "interarrival_time=[random.expovariate(4/6) for i in range(0,1000)]\n",
    "## 6 service centres\n",
    "\n",
    "mean_waiting_times_system=[]\n",
    "mean_waiting_times= []\n",
    "\n",
    "def simulation(waiting_time,leaving_time):\n",
    "    global mean_waiting_times\n",
    "\n",
    "    # #     waiting_time.append(simulation(waiting_time,leaving_time))\n",
    "\n",
    "    # mean_waiting_times.append(simulation(waiting_time,leaving_time))\n",
    "    for j in range(1,100):    \n",
    "\n",
    "\n",
    "\n",
    "        waiting_time= []\n",
    "        leaving_time=[]\n",
    "        waiting_time_system=[]\n",
    "        arrival_time= np.cumsum([random.expovariate(4/6) for i in range(0,1000)])\n",
    "        arrival_time2= np.cumsum(np.random.exponential(0.4*1,1000))\n",
    "        interarrival_time=[random.expovariate(4/6) for i in range(0,1000)]\n",
    "\n",
    "\n",
    "        service_time= np.random.exponential(15,1000)\n",
    "        waiting_time.append(0)\n",
    "        leaving_time.append(service_time[0]+list(arrival_time)[0]+waiting_time[0])\n",
    "\n",
    "        for i in range(1, len(arrival_time2)):\n",
    "            waiting_time.append(max(0,leaving_time[i-1]-list(arrival_time2)[i]))\n",
    "            leaving_time.append(list(arrival_time2)[i]+waiting_time[i]+service_time[i])\n",
    "            \n",
    "            waiting_time_system.append(max(0,leaving_time[i-1]-list(arrival_time2)[i])+service_time[i])\n",
    "            \n",
    "\n",
    "        mean_waiting_times.append( np.mean(waiting_time))\n",
    "        mean_waiting_times_system.append(np.mean(waiting_time_system))\n",
    "#         print(mean_waiting_times)\n",
    "\n",
    "    return mean_waiting_times,mean_waiting_times_system\n",
    "\n",
    "\n",
    "\n",
    "    "
   ]
  },
  {
   "cell_type": "code",
   "execution_count": 298,
   "id": "bf0db20a-4d69-4a2b-9f69-408cd7ab8403",
   "metadata": {},
   "outputs": [],
   "source": [
    "times,system_time=simulation(waiting_time,leaving_time)"
   ]
  },
  {
   "cell_type": "code",
   "execution_count": 299,
   "id": "775d9975-f8e3-43bf-8be2-777e7b4cf9ae",
   "metadata": {},
   "outputs": [
    {
     "data": {
      "text/plain": [
       "7314.122151610521"
      ]
     },
     "execution_count": 299,
     "metadata": {},
     "output_type": "execute_result"
    }
   ],
   "source": [
    "np.mean(times)\n",
    "np.mean(system_time)"
   ]
  },
  {
   "cell_type": "code",
   "execution_count": 300,
   "id": "d56791fe-93a9-42bd-8f3a-00d6d170e90e",
   "metadata": {},
   "outputs": [],
   "source": [
    "avg_people_system= np.mean(system_time)*150"
   ]
  },
  {
   "cell_type": "code",
   "execution_count": 301,
   "id": "07f8b9bb-a107-4894-968b-9c1390e841e9",
   "metadata": {},
   "outputs": [
    {
     "data": {
      "text/plain": [
       "1097118.322741578"
      ]
     },
     "execution_count": 301,
     "metadata": {},
     "output_type": "execute_result"
    }
   ],
   "source": [
    "avg_people_system"
   ]
  },
  {
   "cell_type": "code",
   "execution_count": null,
   "id": "1986cdaa-9cd6-4277-ba53-e3ca1735f466",
   "metadata": {},
   "outputs": [],
   "source": []
  }
 ],
 "metadata": {
  "kernelspec": {
   "display_name": "Python 3",
   "language": "python",
   "name": "python3"
  },
  "language_info": {
   "codemirror_mode": {
    "name": "ipython",
    "version": 3
   },
   "file_extension": ".py",
   "mimetype": "text/x-python",
   "name": "python",
   "nbconvert_exporter": "python",
   "pygments_lexer": "ipython3",
   "version": "3.8.5"
  }
 },
 "nbformat": 4,
 "nbformat_minor": 5
}
